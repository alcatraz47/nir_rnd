{
 "cells": [
  {
   "cell_type": "code",
   "execution_count": 16,
   "metadata": {},
   "outputs": [],
   "source": [
    "import os\n",
    "import numpy as np\n",
    "import pandas as pd\n",
    "import matplotlib.pyplot as plt\n",
    "from scipy.signal import savgol_filter\n",
    "from sklearn.preprocessing import StandardScaler"
   ]
  },
  {
   "cell_type": "code",
   "execution_count": 3,
   "metadata": {},
   "outputs": [],
   "source": [
    "work_dir = os.getcwd()\n",
    "df = pd.read_csv(f\"{work_dir}/coffee_classification.csv\")"
   ]
  },
  {
   "cell_type": "code",
   "execution_count": 4,
   "metadata": {},
   "outputs": [
    {
     "data": {
      "text/html": [
       "<div>\n",
       "<style scoped>\n",
       "    .dataframe tbody tr th:only-of-type {\n",
       "        vertical-align: middle;\n",
       "    }\n",
       "\n",
       "    .dataframe tbody tr th {\n",
       "        vertical-align: top;\n",
       "    }\n",
       "\n",
       "    .dataframe thead th {\n",
       "        text-align: right;\n",
       "    }\n",
       "</style>\n",
       "<table border=\"1\" class=\"dataframe\">\n",
       "  <thead>\n",
       "    <tr style=\"text-align: right;\">\n",
       "      <th></th>\n",
       "      <th>Coffee Type</th>\n",
       "      <th>1</th>\n",
       "      <th>2</th>\n",
       "      <th>3</th>\n",
       "      <th>4</th>\n",
       "      <th>5</th>\n",
       "      <th>6</th>\n",
       "      <th>7</th>\n",
       "      <th>8</th>\n",
       "      <th>9</th>\n",
       "      <th>...</th>\n",
       "      <th>592</th>\n",
       "      <th>593</th>\n",
       "      <th>594</th>\n",
       "      <th>595</th>\n",
       "      <th>596</th>\n",
       "      <th>597</th>\n",
       "      <th>598</th>\n",
       "      <th>599</th>\n",
       "      <th>600</th>\n",
       "      <th>601</th>\n",
       "    </tr>\n",
       "  </thead>\n",
       "  <tbody>\n",
       "    <tr>\n",
       "      <th>0</th>\n",
       "      <td>Tauro</td>\n",
       "      <td>0.948504</td>\n",
       "      <td>0.947795</td>\n",
       "      <td>0.946445</td>\n",
       "      <td>0.944988</td>\n",
       "      <td>0.943754</td>\n",
       "      <td>0.943384</td>\n",
       "      <td>0.944066</td>\n",
       "      <td>0.945799</td>\n",
       "      <td>0.948352</td>\n",
       "      <td>...</td>\n",
       "      <td>0.282806</td>\n",
       "      <td>0.281890</td>\n",
       "      <td>0.281222</td>\n",
       "      <td>0.280815</td>\n",
       "      <td>0.280693</td>\n",
       "      <td>0.280811</td>\n",
       "      <td>0.281193</td>\n",
       "      <td>0.281853</td>\n",
       "      <td>0.282838</td>\n",
       "      <td>0.284274</td>\n",
       "    </tr>\n",
       "    <tr>\n",
       "      <th>1</th>\n",
       "      <td>Tauro</td>\n",
       "      <td>0.905532</td>\n",
       "      <td>0.904839</td>\n",
       "      <td>0.903945</td>\n",
       "      <td>0.902695</td>\n",
       "      <td>0.901430</td>\n",
       "      <td>0.900893</td>\n",
       "      <td>0.901221</td>\n",
       "      <td>0.902677</td>\n",
       "      <td>0.904882</td>\n",
       "      <td>...</td>\n",
       "      <td>0.258335</td>\n",
       "      <td>0.257492</td>\n",
       "      <td>0.256907</td>\n",
       "      <td>0.256648</td>\n",
       "      <td>0.256645</td>\n",
       "      <td>0.256880</td>\n",
       "      <td>0.257425</td>\n",
       "      <td>0.258203</td>\n",
       "      <td>0.259317</td>\n",
       "      <td>0.260800</td>\n",
       "    </tr>\n",
       "    <tr>\n",
       "      <th>2</th>\n",
       "      <td>Tauro</td>\n",
       "      <td>0.784601</td>\n",
       "      <td>0.784103</td>\n",
       "      <td>0.783307</td>\n",
       "      <td>0.782516</td>\n",
       "      <td>0.781724</td>\n",
       "      <td>0.781432</td>\n",
       "      <td>0.781957</td>\n",
       "      <td>0.783278</td>\n",
       "      <td>0.785293</td>\n",
       "      <td>...</td>\n",
       "      <td>0.222330</td>\n",
       "      <td>0.221602</td>\n",
       "      <td>0.221146</td>\n",
       "      <td>0.220880</td>\n",
       "      <td>0.220885</td>\n",
       "      <td>0.221101</td>\n",
       "      <td>0.221590</td>\n",
       "      <td>0.222324</td>\n",
       "      <td>0.223326</td>\n",
       "      <td>0.224650</td>\n",
       "    </tr>\n",
       "    <tr>\n",
       "      <th>3</th>\n",
       "      <td>Tauro</td>\n",
       "      <td>0.720050</td>\n",
       "      <td>0.719402</td>\n",
       "      <td>0.718323</td>\n",
       "      <td>0.717160</td>\n",
       "      <td>0.716094</td>\n",
       "      <td>0.715715</td>\n",
       "      <td>0.716034</td>\n",
       "      <td>0.717204</td>\n",
       "      <td>0.718991</td>\n",
       "      <td>...</td>\n",
       "      <td>0.198238</td>\n",
       "      <td>0.197453</td>\n",
       "      <td>0.196903</td>\n",
       "      <td>0.196654</td>\n",
       "      <td>0.196652</td>\n",
       "      <td>0.196831</td>\n",
       "      <td>0.197252</td>\n",
       "      <td>0.197917</td>\n",
       "      <td>0.198817</td>\n",
       "      <td>0.200071</td>\n",
       "    </tr>\n",
       "    <tr>\n",
       "      <th>4</th>\n",
       "      <td>Tauro</td>\n",
       "      <td>0.820835</td>\n",
       "      <td>0.820500</td>\n",
       "      <td>0.819734</td>\n",
       "      <td>0.818661</td>\n",
       "      <td>0.817800</td>\n",
       "      <td>0.817529</td>\n",
       "      <td>0.818071</td>\n",
       "      <td>0.819510</td>\n",
       "      <td>0.821659</td>\n",
       "      <td>...</td>\n",
       "      <td>0.232847</td>\n",
       "      <td>0.232013</td>\n",
       "      <td>0.231440</td>\n",
       "      <td>0.231195</td>\n",
       "      <td>0.231231</td>\n",
       "      <td>0.231466</td>\n",
       "      <td>0.231987</td>\n",
       "      <td>0.232698</td>\n",
       "      <td>0.233674</td>\n",
       "      <td>0.234985</td>\n",
       "    </tr>\n",
       "  </tbody>\n",
       "</table>\n",
       "<p>5 rows × 602 columns</p>\n",
       "</div>"
      ],
      "text/plain": [
       "  Coffee Type         1         2         3         4         5         6  \\\n",
       "0       Tauro  0.948504  0.947795  0.946445  0.944988  0.943754  0.943384   \n",
       "1       Tauro  0.905532  0.904839  0.903945  0.902695  0.901430  0.900893   \n",
       "2       Tauro  0.784601  0.784103  0.783307  0.782516  0.781724  0.781432   \n",
       "3       Tauro  0.720050  0.719402  0.718323  0.717160  0.716094  0.715715   \n",
       "4       Tauro  0.820835  0.820500  0.819734  0.818661  0.817800  0.817529   \n",
       "\n",
       "          7         8         9  ...       592       593       594       595  \\\n",
       "0  0.944066  0.945799  0.948352  ...  0.282806  0.281890  0.281222  0.280815   \n",
       "1  0.901221  0.902677  0.904882  ...  0.258335  0.257492  0.256907  0.256648   \n",
       "2  0.781957  0.783278  0.785293  ...  0.222330  0.221602  0.221146  0.220880   \n",
       "3  0.716034  0.717204  0.718991  ...  0.198238  0.197453  0.196903  0.196654   \n",
       "4  0.818071  0.819510  0.821659  ...  0.232847  0.232013  0.231440  0.231195   \n",
       "\n",
       "        596       597       598       599       600       601  \n",
       "0  0.280693  0.280811  0.281193  0.281853  0.282838  0.284274  \n",
       "1  0.256645  0.256880  0.257425  0.258203  0.259317  0.260800  \n",
       "2  0.220885  0.221101  0.221590  0.222324  0.223326  0.224650  \n",
       "3  0.196652  0.196831  0.197252  0.197917  0.198817  0.200071  \n",
       "4  0.231231  0.231466  0.231987  0.232698  0.233674  0.234985  \n",
       "\n",
       "[5 rows x 602 columns]"
      ]
     },
     "execution_count": 4,
     "metadata": {},
     "output_type": "execute_result"
    }
   ],
   "source": [
    "df.head()"
   ]
  },
  {
   "cell_type": "markdown",
   "metadata": {},
   "source": [
    "EDA"
   ]
  },
  {
   "cell_type": "code",
   "execution_count": 8,
   "metadata": {},
   "outputs": [
    {
     "name": "stdout",
     "output_type": "stream",
     "text": [
      "Index(['Coffee Type', '1', '2', '3', '4', '5', '6', '7', '8', '9',\n",
      "       ...\n",
      "       '592', '593', '594', '595', '596', '597', '598', '599', '600', '601'],\n",
      "      dtype='object', length=602)\n"
     ]
    }
   ],
   "source": [
    "print(df.columns)"
   ]
  },
  {
   "cell_type": "code",
   "execution_count": 7,
   "metadata": {},
   "outputs": [
    {
     "name": "stdout",
     "output_type": "stream",
     "text": [
      "               1          2          3          4          5          6  \\\n",
      "count  70.000000  70.000000  70.000000  70.000000  70.000000  70.000000   \n",
      "mean    0.730464   0.729880   0.728958   0.727939   0.727150   0.726963   \n",
      "std     0.097779   0.097676   0.097532   0.097392   0.097286   0.097257   \n",
      "min     0.522417   0.522132   0.521493   0.520754   0.520109   0.519794   \n",
      "25%     0.659202   0.658728   0.657851   0.656829   0.655862   0.655480   \n",
      "50%     0.728594   0.727914   0.726955   0.725886   0.725179   0.724936   \n",
      "75%     0.783336   0.782698   0.781683   0.780743   0.780144   0.780152   \n",
      "max     0.966410   0.965667   0.964509   0.963394   0.962561   0.962427   \n",
      "\n",
      "               7          8          9         10  ...        592        593  \\\n",
      "count  70.000000  70.000000  70.000000  70.000000  ...  70.000000  70.000000   \n",
      "mean    0.727574   0.728983   0.730981   0.733238  ...   0.211783   0.211042   \n",
      "std     0.097326   0.097515   0.097792   0.098090  ...   0.031218   0.031116   \n",
      "min     0.520116   0.520921   0.522011   0.523225  ...   0.158265   0.157811   \n",
      "25%     0.655887   0.657024   0.658697   0.660419  ...   0.189436   0.188707   \n",
      "50%     0.725578   0.727105   0.729220   0.731653  ...   0.200811   0.200085   \n",
      "75%     0.781344   0.783014   0.785056   0.787401  ...   0.225665   0.224872   \n",
      "max     0.963163   0.964786   0.967238   0.969969  ...   0.282806   0.281890   \n",
      "\n",
      "             594        595        596        597        598        599  \\\n",
      "count  70.000000  70.000000  70.000000  70.000000  70.000000  70.000000   \n",
      "mean    0.210518   0.210219   0.210126   0.210235   0.210550   0.211089   \n",
      "std     0.031031   0.030958   0.030915   0.030885   0.030882   0.030901   \n",
      "min     0.157496   0.157363   0.157312   0.157429   0.157680   0.158116   \n",
      "25%     0.188180   0.187883   0.187805   0.187813   0.187955   0.188327   \n",
      "50%     0.199575   0.199278   0.199142   0.199165   0.199449   0.200062   \n",
      "75%     0.224291   0.223956   0.223849   0.224033   0.224457   0.225104   \n",
      "max     0.281222   0.280815   0.280693   0.280811   0.281193   0.281853   \n",
      "\n",
      "             600        601  \n",
      "count  70.000000  70.000000  \n",
      "mean    0.211899   0.213048  \n",
      "std     0.030948   0.031035  \n",
      "min     0.158777   0.159726  \n",
      "25%     0.189089   0.190212  \n",
      "50%     0.200952   0.202186  \n",
      "75%     0.226064   0.227399  \n",
      "max     0.282838   0.284274  \n",
      "\n",
      "[8 rows x 601 columns]\n"
     ]
    }
   ],
   "source": [
    "print(df.describe())"
   ]
  },
  {
   "cell_type": "markdown",
   "metadata": {},
   "source": [
    "It looks like the data is required to scale as it contains high to low value variations from mean. and the very first column is for classification.\n",
    "Now, maybe there might be outliers in the data and have to check it in the next steps.\n",
    "For outlier detection, Savitzky-Golay smoothing technique with some degree of derivatvie if required will be used including the adjustment of the window-size"
   ]
  },
  {
   "cell_type": "code",
   "execution_count": 14,
   "metadata": {},
   "outputs": [],
   "source": [
    "X = df.values[:, 1:]\n",
    "# scaling\n",
    "scaler = StandardScaler()\n",
    "X_scaled = scaler.fit_transform(X)"
   ]
  },
  {
   "cell_type": "code",
   "execution_count": 19,
   "metadata": {},
   "outputs": [],
   "source": [
    "# smoothing the data\n",
    "window = 5\n",
    "X_smooth_0 = savgol_filter(X, window_length=window, polyorder=0)\n",
    "X_smooth_1 = savgol_filter(X, window_length=window, polyorder=1)\n",
    "X_smooth_2 = savgol_filter(X, window_length=window, polyorder=2)\n",
    "\n",
    "wavelength = np.linspace(1100, 2300, X.shape[1])"
   ]
  },
  {
   "cell_type": "code",
   "execution_count": 27,
   "metadata": {},
   "outputs": [
    {
     "ename": "IndexError",
     "evalue": "index 601 is out of bounds for axis 0 with size 601",
     "output_type": "error",
     "traceback": [
      "\u001b[0;31m---------------------------------------------------------------------------\u001b[0m",
      "\u001b[0;31mIndexError\u001b[0m                                Traceback (most recent call last)",
      "Cell \u001b[0;32mIn[27], line 3\u001b[0m\n\u001b[1;32m      1\u001b[0m plt\u001b[38;5;241m.\u001b[39mfigure(figsize\u001b[38;5;241m=\u001b[39m(\u001b[38;5;241m12\u001b[39m, \u001b[38;5;241m9\u001b[39m))\n\u001b[1;32m      2\u001b[0m frequency_interval \u001b[38;5;241m=\u001b[39m np\u001b[38;5;241m.\u001b[39marange(\u001b[38;5;241m0\u001b[39m, \u001b[38;5;241m10000\u001b[39m, \u001b[38;5;241m1\u001b[39m)\n\u001b[0;32m----> 3\u001b[0m plt\u001b[38;5;241m.\u001b[39mplot(\u001b[43mwavelength\u001b[49m\u001b[43m[\u001b[49m\u001b[43mfrequency_interval\u001b[49m\u001b[43m]\u001b[49m, X[frequency_interval], \u001b[38;5;124m\"\u001b[39m\u001b[38;5;124mb\u001b[39m\u001b[38;5;124m\"\u001b[39m, label\u001b[38;5;241m=\u001b[39m\u001b[38;5;124m\"\u001b[39m\u001b[38;5;124mNo Smoothing\u001b[39m\u001b[38;5;124m\"\u001b[39m)\n\u001b[1;32m      4\u001b[0m plt\u001b[38;5;241m.\u001b[39mshow()\n",
      "\u001b[0;31mIndexError\u001b[0m: index 601 is out of bounds for axis 0 with size 601"
     ]
    },
    {
     "data": {
      "text/plain": [
       "<Figure size 1200x900 with 0 Axes>"
      ]
     },
     "metadata": {},
     "output_type": "display_data"
    }
   ],
   "source": [
    "plt.figure(figsize=(12, 9))\n",
    "frequency_interval = np.arange(0, X., 1)\n",
    "plt.plot(wavelength[frequency_interval], X[frequency_interval], \"b\", label=\"No Smoothing\")\n",
    "plt.show()"
   ]
  },
  {
   "cell_type": "code",
   "execution_count": null,
   "metadata": {},
   "outputs": [],
   "source": []
  }
 ],
 "metadata": {
  "kernelspec": {
   "display_name": "nir_rnd",
   "language": "python",
   "name": "python3"
  },
  "language_info": {
   "codemirror_mode": {
    "name": "ipython",
    "version": 3
   },
   "file_extension": ".py",
   "mimetype": "text/x-python",
   "name": "python",
   "nbconvert_exporter": "python",
   "pygments_lexer": "ipython3",
   "version": "3.12.4"
  }
 },
 "nbformat": 4,
 "nbformat_minor": 2
}
