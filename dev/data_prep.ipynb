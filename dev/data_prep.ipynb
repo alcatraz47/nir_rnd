{
 "cells": [
  {
   "cell_type": "code",
   "execution_count": 1,
   "metadata": {},
   "outputs": [],
   "source": [
    "import os\n",
    "import pandas as pd\n",
    "from typing import List"
   ]
  },
  {
   "cell_type": "markdown",
   "metadata": {},
   "source": [
    "Data directories"
   ]
  },
  {
   "cell_type": "code",
   "execution_count": 2,
   "metadata": {},
   "outputs": [
    {
     "name": "stdout",
     "output_type": "stream",
     "text": [
      "[Info:] Parent Directory: /home/arfan/Documents/Others/Omegga/project\n",
      "[Info:] Working Directory: /home/arfan/Documents/Others/Omegga/project/dev\n",
      "[Info:] Data Directory: ['final_data.xlsx', 'raw_data.xlsx']\n"
     ]
    }
   ],
   "source": [
    "working_dir = os.getcwd()\n",
    "parent_dir = \"/\".join(working_dir.split(\"/\")[:-1])\n",
    "data_dir = f\"{parent_dir}/data\"\n",
    "data_list = os.listdir(data_dir)\n",
    "\n",
    "print(f\"[Info:] Parent Directory: {parent_dir}\")\n",
    "print(f\"[Info:] Working Directory: {working_dir}\")\n",
    "print(f\"[Info:] Data Directory: {data_list}\")"
   ]
  },
  {
   "cell_type": "markdown",
   "metadata": {},
   "source": [
    "Dataset generation blocks"
   ]
  },
  {
   "cell_type": "code",
   "execution_count": 3,
   "metadata": {},
   "outputs": [],
   "source": [
    "def generate_dataset(\n",
    "    df: pd.DataFrame,\n",
    "    sample_size: int,\n",
    "    ordering_col: str,\n",
    "    columns_to_drop: List[str],\n",
    "    dropping_axis: int = 1,\n",
    "    randomness: int = 42,\n",
    "    replacement: bool = True,\n",
    "    reset_index: bool = True) -> pd.DataFrame:\n",
    "    \"\"\"generating sample dataset from the original one.\n",
    "    This function accepts pandas dataframe and selects\n",
    "    rows with sampling. returns similar type of pandas\n",
    "    dataframe.\n",
    "    \n",
    "    Note: Original dataset is not provided for privacy\n",
    "\n",
    "    Args:\n",
    "        df (pd.DataFrame): input pandas tabular dataframe\n",
    "        sample_size (int): sample size to extract data from original data\n",
    "        dropping_axis (int): accpets 0 or 1. to drop following column or row \n",
    "                                if 1 then column wise row dropping otherwise \n",
    "                                vice versa\n",
    "        randomness (int): integer to introduce randomness in the data\n",
    "        ordering_col (str): column to follow ordering of the rows\n",
    "        columns_to_drop (List[str]): list of columns to drop\n",
    "        replacement (bool, optional): whether sampling with replacement or not. \n",
    "                                        Defaults to True.\n",
    "        reset_index (bool, optional): if resetting of the indexes needed or not. \n",
    "                                        Defaults to True.\n",
    "\n",
    "    Returns:\n",
    "        pd.DataFrame: resulting data into pandas tabular dataframe\n",
    "    \"\"\"\n",
    "    df = df.sample(n=sample_size, replace=replacement, random_state=randomness)\n",
    "    df.drop(columns_to_drop, axis=dropping_axis, inplace=True)\n",
    "    df.sort_values(ordering_col, inplace=True)\n",
    "    if reset_index:\n",
    "        df.reset_index(inplace=True)\n",
    "    \n",
    "    return df"
   ]
  },
  {
   "cell_type": "code",
   "execution_count": 4,
   "metadata": {},
   "outputs": [],
   "source": [
    "for file in data_list:\n",
    "    if \"raw_data\" in file:\n",
    "        df = pd.read_excel(f\"{data_dir}/{file}\")\n",
    "    else:\n",
    "        other_df = df = pd.read_excel(f\"{data_dir}/{file}\")"
   ]
  },
  {
   "cell_type": "code",
   "execution_count": 5,
   "metadata": {},
   "outputs": [
    {
     "data": {
      "text/plain": [
       "(6047, 260)"
      ]
     },
     "execution_count": 5,
     "metadata": {},
     "output_type": "execute_result"
    }
   ],
   "source": [
    "df.shape"
   ]
  },
  {
   "cell_type": "code",
   "execution_count": 6,
   "metadata": {},
   "outputs": [],
   "source": [
    "sampled_df = generate_dataset(\n",
    "    df=df,\n",
    "    sample_size=1000,\n",
    "    ordering_col=\"order\",\n",
    "    columns_to_drop=[\"AnalyzerID\"],\n",
    "    dropping_axis=1,\n",
    "    randomness=42,\n",
    "    replacement=True,\n",
    "    reset_index=True\n",
    ")"
   ]
  },
  {
   "cell_type": "code",
   "execution_count": 7,
   "metadata": {},
   "outputs": [
    {
     "data": {
      "text/plain": [
       "(1000, 260)"
      ]
     },
     "execution_count": 7,
     "metadata": {},
     "output_type": "execute_result"
    }
   ],
   "source": [
    "sampled_df.shape"
   ]
  },
  {
   "cell_type": "code",
   "execution_count": 8,
   "metadata": {},
   "outputs": [
    {
     "data": {
      "text/plain": [
       "Index(['CA (HPLC)',     1350.16,     1352.64,     1355.14,     1357.64,\n",
       "           1360.16,     1362.68,     1365.21,     1367.75,      1370.3,\n",
       "       ...\n",
       "           2472.75,      2481.1,     2489.51,     2497.97,      2506.5,\n",
       "           2515.08,     2523.72,     2532.42,     2541.18,        2550],\n",
       "      dtype='object', length=258)"
      ]
     },
     "execution_count": 8,
     "metadata": {},
     "output_type": "execute_result"
    }
   ],
   "source": [
    "sampled_df.columns[2:]"
   ]
  },
  {
   "cell_type": "code",
   "execution_count": 9,
   "metadata": {},
   "outputs": [],
   "source": [
    "sampled_df.to_excel(f\"{data_dir}/final_data.xlsx\", index=False, columns=sampled_df.columns[2:])"
   ]
  },
  {
   "cell_type": "code",
   "execution_count": null,
   "metadata": {},
   "outputs": [],
   "source": []
  }
 ],
 "metadata": {
  "kernelspec": {
   "display_name": "nir_rnd",
   "language": "python",
   "name": "python3"
  },
  "language_info": {
   "codemirror_mode": {
    "name": "ipython",
    "version": 3
   },
   "file_extension": ".py",
   "mimetype": "text/x-python",
   "name": "python",
   "nbconvert_exporter": "python",
   "pygments_lexer": "ipython3",
   "version": "3.12.4"
  }
 },
 "nbformat": 4,
 "nbformat_minor": 2
}
